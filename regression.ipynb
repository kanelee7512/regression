{
 "cells": [
  {
   "cell_type": "markdown",
   "metadata": {},
   "source": [
    "<img src='../../images/wcd_logo.png' width='50%'>\n",
    "-------------\n",
    "\n",
    "<h3 align='center'> WCD Python Data Science Course </h3>\n",
    "<h1 align='center'> Machine learning: regression </h1>\n",
    "\n",
    "<br>\n",
    "<center align=\"left\"> Developed by: </center>\n",
    "<center align=\"left\"> WeCloudData Academy </center>"
   ]
  },
  {
   "cell_type": "code",
   "execution_count": 1,
   "metadata": {
    "scrolled": false
   },
   "outputs": [
    {
     "name": "stdout",
     "output_type": "stream",
     "text": [
      "Populating the interactive namespace from numpy and matplotlib\n"
     ]
    }
   ],
   "source": [
    "import numpy as np\n",
    "import pandas as pd\n",
    "%pylab inline"
   ]
  },
  {
   "cell_type": "markdown",
   "metadata": {},
   "source": [
    "# Load the data"
   ]
  },
  {
   "cell_type": "code",
   "execution_count": 2,
   "metadata": {
    "collapsed": true
   },
   "outputs": [],
   "source": [
    "from sklearn import datasets\n",
    "\n",
    "X, y = datasets.load_boston(return_X_y=True)"
   ]
  },
  {
   "cell_type": "code",
   "execution_count": 3,
   "metadata": {},
   "outputs": [
    {
     "name": "stdout",
     "output_type": "stream",
     "text": [
      "(506, 13)\n",
      "(506,)\n"
     ]
    }
   ],
   "source": [
    "print(X.shape)\n",
    "print(y.shape)"
   ]
  },
  {
   "cell_type": "code",
   "execution_count": 4,
   "metadata": {
    "collapsed": true
   },
   "outputs": [],
   "source": [
    "boston = datasets.load_boston()"
   ]
  },
  {
   "cell_type": "code",
   "execution_count": 5,
   "metadata": {},
   "outputs": [
    {
     "data": {
      "text/plain": [
       "(506, 13)"
      ]
     },
     "execution_count": 5,
     "metadata": {},
     "output_type": "execute_result"
    }
   ],
   "source": [
    "boston.data.shape"
   ]
  },
  {
   "cell_type": "code",
   "execution_count": 6,
   "metadata": {},
   "outputs": [
    {
     "data": {
      "text/plain": [
       "(506,)"
      ]
     },
     "execution_count": 6,
     "metadata": {},
     "output_type": "execute_result"
    }
   ],
   "source": [
    "boston.target.shape"
   ]
  },
  {
   "cell_type": "code",
   "execution_count": 7,
   "metadata": {
    "scrolled": true
   },
   "outputs": [
    {
     "name": "stdout",
     "output_type": "stream",
     "text": [
      "Boston House Prices dataset\n",
      "===========================\n",
      "\n",
      "Notes\n",
      "------\n",
      "Data Set Characteristics:  \n",
      "\n",
      "    :Number of Instances: 506 \n",
      "\n",
      "    :Number of Attributes: 13 numeric/categorical predictive\n",
      "    \n",
      "    :Median Value (attribute 14) is usually the target\n",
      "\n",
      "    :Attribute Information (in order):\n",
      "        - CRIM     per capita crime rate by town\n",
      "        - ZN       proportion of residential land zoned for lots over 25,000 sq.ft.\n",
      "        - INDUS    proportion of non-retail business acres per town\n",
      "        - CHAS     Charles River dummy variable (= 1 if tract bounds river; 0 otherwise)\n",
      "        - NOX      nitric oxides concentration (parts per 10 million)\n",
      "        - RM       average number of rooms per dwelling\n",
      "        - AGE      proportion of owner-occupied units built prior to 1940\n",
      "        - DIS      weighted distances to five Boston employment centres\n",
      "        - RAD      index of accessibility to radial highways\n",
      "        - TAX      full-value property-tax rate per $10,000\n",
      "        - PTRATIO  pupil-teacher ratio by town\n",
      "        - B        1000(Bk - 0.63)^2 where Bk is the proportion of blacks by town\n",
      "        - LSTAT    % lower status of the population\n",
      "        - MEDV     Median value of owner-occupied homes in $1000's\n",
      "\n",
      "    :Missing Attribute Values: None\n",
      "\n",
      "    :Creator: Harrison, D. and Rubinfeld, D.L.\n",
      "\n",
      "This is a copy of UCI ML housing dataset.\n",
      "http://archive.ics.uci.edu/ml/datasets/Housing\n",
      "\n",
      "\n",
      "This dataset was taken from the StatLib library which is maintained at Carnegie Mellon University.\n",
      "\n",
      "The Boston house-price data of Harrison, D. and Rubinfeld, D.L. 'Hedonic\n",
      "prices and the demand for clean air', J. Environ. Economics & Management,\n",
      "vol.5, 81-102, 1978.   Used in Belsley, Kuh & Welsch, 'Regression diagnostics\n",
      "...', Wiley, 1980.   N.B. Various transformations are used in the table on\n",
      "pages 244-261 of the latter.\n",
      "\n",
      "The Boston house-price data has been used in many machine learning papers that address regression\n",
      "problems.   \n",
      "     \n",
      "**References**\n",
      "\n",
      "   - Belsley, Kuh & Welsch, 'Regression diagnostics: Identifying Influential Data and Sources of Collinearity', Wiley, 1980. 244-261.\n",
      "   - Quinlan,R. (1993). Combining Instance-Based and Model-Based Learning. In Proceedings on the Tenth International Conference of Machine Learning, 236-243, University of Massachusetts, Amherst. Morgan Kaufmann.\n",
      "   - many more! (see http://archive.ics.uci.edu/ml/datasets/Housing)\n",
      "\n"
     ]
    }
   ],
   "source": [
    "print(boston.DESCR)"
   ]
  },
  {
   "cell_type": "code",
   "execution_count": 8,
   "metadata": {},
   "outputs": [
    {
     "name": "stdout",
     "output_type": "stream",
     "text": [
      "{'data': array([[  6.32000000e-03,   1.80000000e+01,   2.31000000e+00, ...,\n",
      "          1.53000000e+01,   3.96900000e+02,   4.98000000e+00],\n",
      "       [  2.73100000e-02,   0.00000000e+00,   7.07000000e+00, ...,\n",
      "          1.78000000e+01,   3.96900000e+02,   9.14000000e+00],\n",
      "       [  2.72900000e-02,   0.00000000e+00,   7.07000000e+00, ...,\n",
      "          1.78000000e+01,   3.92830000e+02,   4.03000000e+00],\n",
      "       ..., \n",
      "       [  6.07600000e-02,   0.00000000e+00,   1.19300000e+01, ...,\n",
      "          2.10000000e+01,   3.96900000e+02,   5.64000000e+00],\n",
      "       [  1.09590000e-01,   0.00000000e+00,   1.19300000e+01, ...,\n",
      "          2.10000000e+01,   3.93450000e+02,   6.48000000e+00],\n",
      "       [  4.74100000e-02,   0.00000000e+00,   1.19300000e+01, ...,\n",
      "          2.10000000e+01,   3.96900000e+02,   7.88000000e+00]]), 'target': array([ 24. ,  21.6,  34.7,  33.4,  36.2,  28.7,  22.9,  27.1,  16.5,\n",
      "        18.9,  15. ,  18.9,  21.7,  20.4,  18.2,  19.9,  23.1,  17.5,\n",
      "        20.2,  18.2,  13.6,  19.6,  15.2,  14.5,  15.6,  13.9,  16.6,\n",
      "        14.8,  18.4,  21. ,  12.7,  14.5,  13.2,  13.1,  13.5,  18.9,\n",
      "        20. ,  21. ,  24.7,  30.8,  34.9,  26.6,  25.3,  24.7,  21.2,\n",
      "        19.3,  20. ,  16.6,  14.4,  19.4,  19.7,  20.5,  25. ,  23.4,\n",
      "        18.9,  35.4,  24.7,  31.6,  23.3,  19.6,  18.7,  16. ,  22.2,\n",
      "        25. ,  33. ,  23.5,  19.4,  22. ,  17.4,  20.9,  24.2,  21.7,\n",
      "        22.8,  23.4,  24.1,  21.4,  20. ,  20.8,  21.2,  20.3,  28. ,\n",
      "        23.9,  24.8,  22.9,  23.9,  26.6,  22.5,  22.2,  23.6,  28.7,\n",
      "        22.6,  22. ,  22.9,  25. ,  20.6,  28.4,  21.4,  38.7,  43.8,\n",
      "        33.2,  27.5,  26.5,  18.6,  19.3,  20.1,  19.5,  19.5,  20.4,\n",
      "        19.8,  19.4,  21.7,  22.8,  18.8,  18.7,  18.5,  18.3,  21.2,\n",
      "        19.2,  20.4,  19.3,  22. ,  20.3,  20.5,  17.3,  18.8,  21.4,\n",
      "        15.7,  16.2,  18. ,  14.3,  19.2,  19.6,  23. ,  18.4,  15.6,\n",
      "        18.1,  17.4,  17.1,  13.3,  17.8,  14. ,  14.4,  13.4,  15.6,\n",
      "        11.8,  13.8,  15.6,  14.6,  17.8,  15.4,  21.5,  19.6,  15.3,\n",
      "        19.4,  17. ,  15.6,  13.1,  41.3,  24.3,  23.3,  27. ,  50. ,\n",
      "        50. ,  50. ,  22.7,  25. ,  50. ,  23.8,  23.8,  22.3,  17.4,\n",
      "        19.1,  23.1,  23.6,  22.6,  29.4,  23.2,  24.6,  29.9,  37.2,\n",
      "        39.8,  36.2,  37.9,  32.5,  26.4,  29.6,  50. ,  32. ,  29.8,\n",
      "        34.9,  37. ,  30.5,  36.4,  31.1,  29.1,  50. ,  33.3,  30.3,\n",
      "        34.6,  34.9,  32.9,  24.1,  42.3,  48.5,  50. ,  22.6,  24.4,\n",
      "        22.5,  24.4,  20. ,  21.7,  19.3,  22.4,  28.1,  23.7,  25. ,\n",
      "        23.3,  28.7,  21.5,  23. ,  26.7,  21.7,  27.5,  30.1,  44.8,\n",
      "        50. ,  37.6,  31.6,  46.7,  31.5,  24.3,  31.7,  41.7,  48.3,\n",
      "        29. ,  24. ,  25.1,  31.5,  23.7,  23.3,  22. ,  20.1,  22.2,\n",
      "        23.7,  17.6,  18.5,  24.3,  20.5,  24.5,  26.2,  24.4,  24.8,\n",
      "        29.6,  42.8,  21.9,  20.9,  44. ,  50. ,  36. ,  30.1,  33.8,\n",
      "        43.1,  48.8,  31. ,  36.5,  22.8,  30.7,  50. ,  43.5,  20.7,\n",
      "        21.1,  25.2,  24.4,  35.2,  32.4,  32. ,  33.2,  33.1,  29.1,\n",
      "        35.1,  45.4,  35.4,  46. ,  50. ,  32.2,  22. ,  20.1,  23.2,\n",
      "        22.3,  24.8,  28.5,  37.3,  27.9,  23.9,  21.7,  28.6,  27.1,\n",
      "        20.3,  22.5,  29. ,  24.8,  22. ,  26.4,  33.1,  36.1,  28.4,\n",
      "        33.4,  28.2,  22.8,  20.3,  16.1,  22.1,  19.4,  21.6,  23.8,\n",
      "        16.2,  17.8,  19.8,  23.1,  21. ,  23.8,  23.1,  20.4,  18.5,\n",
      "        25. ,  24.6,  23. ,  22.2,  19.3,  22.6,  19.8,  17.1,  19.4,\n",
      "        22.2,  20.7,  21.1,  19.5,  18.5,  20.6,  19. ,  18.7,  32.7,\n",
      "        16.5,  23.9,  31.2,  17.5,  17.2,  23.1,  24.5,  26.6,  22.9,\n",
      "        24.1,  18.6,  30.1,  18.2,  20.6,  17.8,  21.7,  22.7,  22.6,\n",
      "        25. ,  19.9,  20.8,  16.8,  21.9,  27.5,  21.9,  23.1,  50. ,\n",
      "        50. ,  50. ,  50. ,  50. ,  13.8,  13.8,  15. ,  13.9,  13.3,\n",
      "        13.1,  10.2,  10.4,  10.9,  11.3,  12.3,   8.8,   7.2,  10.5,\n",
      "         7.4,  10.2,  11.5,  15.1,  23.2,   9.7,  13.8,  12.7,  13.1,\n",
      "        12.5,   8.5,   5. ,   6.3,   5.6,   7.2,  12.1,   8.3,   8.5,\n",
      "         5. ,  11.9,  27.9,  17.2,  27.5,  15. ,  17.2,  17.9,  16.3,\n",
      "         7. ,   7.2,   7.5,  10.4,   8.8,   8.4,  16.7,  14.2,  20.8,\n",
      "        13.4,  11.7,   8.3,  10.2,  10.9,  11. ,   9.5,  14.5,  14.1,\n",
      "        16.1,  14.3,  11.7,  13.4,   9.6,   8.7,   8.4,  12.8,  10.5,\n",
      "        17.1,  18.4,  15.4,  10.8,  11.8,  14.9,  12.6,  14.1,  13. ,\n",
      "        13.4,  15.2,  16.1,  17.8,  14.9,  14.1,  12.7,  13.5,  14.9,\n",
      "        20. ,  16.4,  17.7,  19.5,  20.2,  21.4,  19.9,  19. ,  19.1,\n",
      "        19.1,  20.1,  19.9,  19.6,  23.2,  29.8,  13.8,  13.3,  16.7,\n",
      "        12. ,  14.6,  21.4,  23. ,  23.7,  25. ,  21.8,  20.6,  21.2,\n",
      "        19.1,  20.6,  15.2,   7. ,   8.1,  13.6,  20.1,  21.8,  24.5,\n",
      "        23.1,  19.7,  18.3,  21.2,  17.5,  16.8,  22.4,  20.6,  23.9,\n",
      "        22. ,  11.9]), 'feature_names': array(['CRIM', 'ZN', 'INDUS', 'CHAS', 'NOX', 'RM', 'AGE', 'DIS', 'RAD',\n",
      "       'TAX', 'PTRATIO', 'B', 'LSTAT'], \n",
      "      dtype='<U7'), 'DESCR': \"Boston House Prices dataset\\n===========================\\n\\nNotes\\n------\\nData Set Characteristics:  \\n\\n    :Number of Instances: 506 \\n\\n    :Number of Attributes: 13 numeric/categorical predictive\\n    \\n    :Median Value (attribute 14) is usually the target\\n\\n    :Attribute Information (in order):\\n        - CRIM     per capita crime rate by town\\n        - ZN       proportion of residential land zoned for lots over 25,000 sq.ft.\\n        - INDUS    proportion of non-retail business acres per town\\n        - CHAS     Charles River dummy variable (= 1 if tract bounds river; 0 otherwise)\\n        - NOX      nitric oxides concentration (parts per 10 million)\\n        - RM       average number of rooms per dwelling\\n        - AGE      proportion of owner-occupied units built prior to 1940\\n        - DIS      weighted distances to five Boston employment centres\\n        - RAD      index of accessibility to radial highways\\n        - TAX      full-value property-tax rate per $10,000\\n        - PTRATIO  pupil-teacher ratio by town\\n        - B        1000(Bk - 0.63)^2 where Bk is the proportion of blacks by town\\n        - LSTAT    % lower status of the population\\n        - MEDV     Median value of owner-occupied homes in $1000's\\n\\n    :Missing Attribute Values: None\\n\\n    :Creator: Harrison, D. and Rubinfeld, D.L.\\n\\nThis is a copy of UCI ML housing dataset.\\nhttp://archive.ics.uci.edu/ml/datasets/Housing\\n\\n\\nThis dataset was taken from the StatLib library which is maintained at Carnegie Mellon University.\\n\\nThe Boston house-price data of Harrison, D. and Rubinfeld, D.L. 'Hedonic\\nprices and the demand for clean air', J. Environ. Economics & Management,\\nvol.5, 81-102, 1978.   Used in Belsley, Kuh & Welsch, 'Regression diagnostics\\n...', Wiley, 1980.   N.B. Various transformations are used in the table on\\npages 244-261 of the latter.\\n\\nThe Boston house-price data has been used in many machine learning papers that address regression\\nproblems.   \\n     \\n**References**\\n\\n   - Belsley, Kuh & Welsch, 'Regression diagnostics: Identifying Influential Data and Sources of Collinearity', Wiley, 1980. 244-261.\\n   - Quinlan,R. (1993). Combining Instance-Based and Model-Based Learning. In Proceedings on the Tenth International Conference of Machine Learning, 236-243, University of Massachusetts, Amherst. Morgan Kaufmann.\\n   - many more! (see http://archive.ics.uci.edu/ml/datasets/Housing)\\n\"}\n"
     ]
    }
   ],
   "source": [
    "print(boston)"
   ]
  },
  {
   "cell_type": "code",
   "execution_count": null,
   "metadata": {
    "collapsed": true
   },
   "outputs": [],
   "source": []
  },
  {
   "cell_type": "markdown",
   "metadata": {},
   "source": [
    "# Explore the data: histograms"
   ]
  },
  {
   "cell_type": "code",
   "execution_count": 9,
   "metadata": {},
   "outputs": [
    {
     "data": {
      "text/html": [
       "<div>\n",
       "<style>\n",
       "    .dataframe thead tr:only-child th {\n",
       "        text-align: right;\n",
       "    }\n",
       "\n",
       "    .dataframe thead th {\n",
       "        text-align: left;\n",
       "    }\n",
       "\n",
       "    .dataframe tbody tr th {\n",
       "        vertical-align: top;\n",
       "    }\n",
       "</style>\n",
       "<table border=\"1\" class=\"dataframe\">\n",
       "  <thead>\n",
       "    <tr style=\"text-align: right;\">\n",
       "      <th></th>\n",
       "      <th>CRIM</th>\n",
       "      <th>ZN</th>\n",
       "      <th>INDUS</th>\n",
       "      <th>CHAS</th>\n",
       "      <th>NOX</th>\n",
       "      <th>RM</th>\n",
       "      <th>AGE</th>\n",
       "      <th>DIS</th>\n",
       "      <th>RAD</th>\n",
       "      <th>TAX</th>\n",
       "      <th>PTRATIO</th>\n",
       "      <th>B</th>\n",
       "      <th>LSTAT</th>\n",
       "    </tr>\n",
       "  </thead>\n",
       "  <tbody>\n",
       "    <tr>\n",
       "      <th>0</th>\n",
       "      <td>0.00632</td>\n",
       "      <td>18.0</td>\n",
       "      <td>2.31</td>\n",
       "      <td>0.0</td>\n",
       "      <td>0.538</td>\n",
       "      <td>6.575</td>\n",
       "      <td>65.2</td>\n",
       "      <td>4.0900</td>\n",
       "      <td>1.0</td>\n",
       "      <td>296.0</td>\n",
       "      <td>15.3</td>\n",
       "      <td>396.90</td>\n",
       "      <td>4.98</td>\n",
       "    </tr>\n",
       "    <tr>\n",
       "      <th>1</th>\n",
       "      <td>0.02731</td>\n",
       "      <td>0.0</td>\n",
       "      <td>7.07</td>\n",
       "      <td>0.0</td>\n",
       "      <td>0.469</td>\n",
       "      <td>6.421</td>\n",
       "      <td>78.9</td>\n",
       "      <td>4.9671</td>\n",
       "      <td>2.0</td>\n",
       "      <td>242.0</td>\n",
       "      <td>17.8</td>\n",
       "      <td>396.90</td>\n",
       "      <td>9.14</td>\n",
       "    </tr>\n",
       "    <tr>\n",
       "      <th>2</th>\n",
       "      <td>0.02729</td>\n",
       "      <td>0.0</td>\n",
       "      <td>7.07</td>\n",
       "      <td>0.0</td>\n",
       "      <td>0.469</td>\n",
       "      <td>7.185</td>\n",
       "      <td>61.1</td>\n",
       "      <td>4.9671</td>\n",
       "      <td>2.0</td>\n",
       "      <td>242.0</td>\n",
       "      <td>17.8</td>\n",
       "      <td>392.83</td>\n",
       "      <td>4.03</td>\n",
       "    </tr>\n",
       "    <tr>\n",
       "      <th>3</th>\n",
       "      <td>0.03237</td>\n",
       "      <td>0.0</td>\n",
       "      <td>2.18</td>\n",
       "      <td>0.0</td>\n",
       "      <td>0.458</td>\n",
       "      <td>6.998</td>\n",
       "      <td>45.8</td>\n",
       "      <td>6.0622</td>\n",
       "      <td>3.0</td>\n",
       "      <td>222.0</td>\n",
       "      <td>18.7</td>\n",
       "      <td>394.63</td>\n",
       "      <td>2.94</td>\n",
       "    </tr>\n",
       "    <tr>\n",
       "      <th>4</th>\n",
       "      <td>0.06905</td>\n",
       "      <td>0.0</td>\n",
       "      <td>2.18</td>\n",
       "      <td>0.0</td>\n",
       "      <td>0.458</td>\n",
       "      <td>7.147</td>\n",
       "      <td>54.2</td>\n",
       "      <td>6.0622</td>\n",
       "      <td>3.0</td>\n",
       "      <td>222.0</td>\n",
       "      <td>18.7</td>\n",
       "      <td>396.90</td>\n",
       "      <td>5.33</td>\n",
       "    </tr>\n",
       "  </tbody>\n",
       "</table>\n",
       "</div>"
      ],
      "text/plain": [
       "      CRIM    ZN  INDUS  CHAS    NOX     RM   AGE     DIS  RAD    TAX  \\\n",
       "0  0.00632  18.0   2.31   0.0  0.538  6.575  65.2  4.0900  1.0  296.0   \n",
       "1  0.02731   0.0   7.07   0.0  0.469  6.421  78.9  4.9671  2.0  242.0   \n",
       "2  0.02729   0.0   7.07   0.0  0.469  7.185  61.1  4.9671  2.0  242.0   \n",
       "3  0.03237   0.0   2.18   0.0  0.458  6.998  45.8  6.0622  3.0  222.0   \n",
       "4  0.06905   0.0   2.18   0.0  0.458  7.147  54.2  6.0622  3.0  222.0   \n",
       "\n",
       "   PTRATIO       B  LSTAT  \n",
       "0     15.3  396.90   4.98  \n",
       "1     17.8  396.90   9.14  \n",
       "2     17.8  392.83   4.03  \n",
       "3     18.7  394.63   2.94  \n",
       "4     18.7  396.90   5.33  "
      ]
     },
     "execution_count": 9,
     "metadata": {},
     "output_type": "execute_result"
    }
   ],
   "source": [
    "df = pd.DataFrame(boston.data, columns=('CRIM', 'ZN', 'INDUS', 'CHAS', 'NOX', 'RM', 'AGE', 'DIS', 'RAD', 'TAX', 'PTRATIO', 'B', 'LSTAT'))\n",
    "df.head()"
   ]
  },
  {
   "cell_type": "code",
   "execution_count": 10,
   "metadata": {},
   "outputs": [
    {
     "name": "stdout",
     "output_type": "stream",
     "text": [
      "88.9762\n"
     ]
    },
    {
     "data": {
      "image/png": "[encoded data removed]",
      "text/plain": [
       "<matplotlib.figure.Figure at 0x21c3e942828>"
      ]
     },
     "metadata": {},
     "output_type": "display_data"
    }
   ],
   "source": [
    "df['CRIM'].plot.hist()\n",
    "print(df['CRIM'].max())"
   ]
  },
  {
   "cell_type": "code",
   "execution_count": 11,
   "metadata": {},
   "outputs": [
    {
     "name": "stdout",
     "output_type": "stream",
     "text": [
      "[ 24.   21.6  34.7  33.4  36.2  28.7  22.9  27.1  16.5  18.9  15.   18.9\n",
      "  21.7  20.4  18.2  19.9  23.1  17.5  20.2  18.2  13.6  19.6  15.2  14.5\n",
      "  15.6  13.9  16.6  14.8  18.4  21.   12.7  14.5  13.2  13.1  13.5  18.9\n",
      "  20.   21.   24.7  30.8  34.9  26.6  25.3  24.7  21.2  19.3  20.   16.6\n",
      "  14.4  19.4  19.7  20.5  25.   23.4  18.9  35.4  24.7  31.6  23.3  19.6\n",
      "  18.7  16.   22.2  25.   33.   23.5  19.4  22.   17.4  20.9  24.2  21.7\n",
      "  22.8  23.4  24.1  21.4  20.   20.8  21.2  20.3  28.   23.9  24.8  22.9\n",
      "  23.9  26.6  22.5  22.2  23.6  28.7  22.6  22.   22.9  25.   20.6  28.4\n",
      "  21.4  38.7  43.8  33.2  27.5  26.5  18.6  19.3  20.1  19.5  19.5  20.4\n",
      "  19.8  19.4  21.7  22.8  18.8  18.7  18.5  18.3  21.2  19.2  20.4  19.3\n",
      "  22.   20.3  20.5  17.3  18.8  21.4  15.7  16.2  18.   14.3  19.2  19.6\n",
      "  23.   18.4  15.6  18.1  17.4  17.1  13.3  17.8  14.   14.4  13.4  15.6\n",
      "  11.8  13.8  15.6  14.6  17.8  15.4  21.5  19.6  15.3  19.4  17.   15.6\n",
      "  13.1  41.3  24.3  23.3  27.   50.   50.   50.   22.7  25.   50.   23.8\n",
      "  23.8  22.3  17.4  19.1  23.1  23.6  22.6  29.4  23.2  24.6  29.9  37.2\n",
      "  39.8  36.2  37.9  32.5  26.4  29.6  50.   32.   29.8  34.9  37.   30.5\n",
      "  36.4  31.1  29.1  50.   33.3  30.3  34.6  34.9  32.9  24.1  42.3  48.5\n",
      "  50.   22.6  24.4  22.5  24.4  20.   21.7  19.3  22.4  28.1  23.7  25.\n",
      "  23.3  28.7  21.5  23.   26.7  21.7  27.5  30.1  44.8  50.   37.6  31.6\n",
      "  46.7  31.5  24.3  31.7  41.7  48.3  29.   24.   25.1  31.5  23.7  23.3\n",
      "  22.   20.1  22.2  23.7  17.6  18.5  24.3  20.5  24.5  26.2  24.4  24.8\n",
      "  29.6  42.8  21.9  20.9  44.   50.   36.   30.1  33.8  43.1  48.8  31.\n",
      "  36.5  22.8  30.7  50.   43.5  20.7  21.1  25.2  24.4  35.2  32.4  32.\n",
      "  33.2  33.1  29.1  35.1  45.4  35.4  46.   50.   32.2  22.   20.1  23.2\n",
      "  22.3  24.8  28.5  37.3  27.9  23.9  21.7  28.6  27.1  20.3  22.5  29.\n",
      "  24.8  22.   26.4  33.1  36.1  28.4  33.4  28.2  22.8  20.3  16.1  22.1\n",
      "  19.4  21.6  23.8  16.2  17.8  19.8  23.1  21.   23.8  23.1  20.4  18.5\n",
      "  25.   24.6  23.   22.2  19.3  22.6  19.8  17.1  19.4  22.2  20.7  21.1\n",
      "  19.5  18.5  20.6  19.   18.7  32.7  16.5  23.9  31.2  17.5  17.2  23.1\n",
      "  24.5  26.6  22.9  24.1  18.6  30.1  18.2  20.6  17.8  21.7  22.7  22.6\n",
      "  25.   19.9  20.8  16.8  21.9  27.5  21.9  23.1  50.   50.   50.   50.\n",
      "  50.   13.8  13.8  15.   13.9  13.3  13.1  10.2  10.4  10.9  11.3  12.3\n",
      "   8.8   7.2  10.5   7.4  10.2  11.5  15.1  23.2   9.7  13.8  12.7  13.1\n",
      "  12.5   8.5   5.    6.3   5.6   7.2  12.1   8.3   8.5   5.   11.9  27.9\n",
      "  17.2  27.5  15.   17.2  17.9  16.3   7.    7.2   7.5  10.4   8.8   8.4\n",
      "  16.7  14.2  20.8  13.4  11.7   8.3  10.2  10.9  11.    9.5  14.5  14.1\n",
      "  16.1  14.3  11.7  13.4   9.6   8.7   8.4  12.8  10.5  17.1  18.4  15.4\n",
      "  10.8  11.8  14.9  12.6  14.1  13.   13.4  15.2  16.1  17.8  14.9  14.1\n",
      "  12.7  13.5  14.9  20.   16.4  17.7  19.5  20.2  21.4  19.9  19.   19.1\n",
      "  19.1  20.1  19.9  19.6  23.2  29.8  13.8  13.3  16.7  12.   14.6  21.4\n",
      "  23.   23.7  25.   21.8  20.6  21.2  19.1  20.6  15.2   7.    8.1  13.6\n",
      "  20.1  21.8  24.5  23.1  19.7  18.3  21.2  17.5  16.8  22.4  20.6  23.9\n",
      "  22.   11.9]\n"
     ]
    }
   ],
   "source": [
    "y = boston.target\n",
    "print(y)"
   ]
  },
  {
   "cell_type": "code",
   "execution_count": 47,
   "metadata": {},
   "outputs": [
    {
     "data": {
      "text/plain": [
       "(array([  9.,  12.,  18.,  37.,  40.,  42.,  83.,  71.,  72.,  12.,  23.,\n",
       "         18.,  16.,  14.,   7.,   1.,   5.,   5.,   2.,  19.]),\n",
       " array([  5.  ,   7.25,   9.5 ,  11.75,  14.  ,  16.25,  18.5 ,  20.75,\n",
       "         23.  ,  25.25,  27.5 ,  29.75,  32.  ,  34.25,  36.5 ,  38.75,\n",
       "         41.  ,  43.25,  45.5 ,  47.75,  50.  ]),\n",
       " <a list of 20 Patch objects>)"
      ]
     },
     "execution_count": 47,
     "metadata": {},
     "output_type": "execute_result"
    },
    {
     "data": {
      "image/png": "[encoded data removed]",
      "text/plain": [
       "<matplotlib.figure.Figure at 0x21c417d00b8>"
      ]
     },
     "metadata": {},
     "output_type": "display_data"
    }
   ],
   "source": [
    "hist(y,bins=20)"
   ]
  },
  {
   "cell_type": "markdown",
   "metadata": {},
   "source": [
    "# Linear regression\n",
    "[link](https://en.wikipedia.org/wiki/Linear_regression)"
   ]
  },
  {
   "cell_type": "code",
   "execution_count": 13,
   "metadata": {
    "collapsed": true
   },
   "outputs": [],
   "source": [
    "from sklearn.linear_model import LinearRegression\n",
    "\n",
    "LinearRegression?"
   ]
  },
  {
   "cell_type": "code",
   "execution_count": 14,
   "metadata": {},
   "outputs": [
    {
     "name": "stdout",
     "output_type": "stream",
     "text": [
      "LinearRegression(copy_X=True, fit_intercept=True, n_jobs=1, normalize=False)\n"
     ]
    }
   ],
   "source": [
    "lr = LinearRegression()\n",
    "print(lr.fit(df, y))\n"
   ]
  },
  {
   "cell_type": "code",
   "execution_count": 15,
   "metadata": {},
   "outputs": [
    {
     "name": "stdout",
     "output_type": "stream",
     "text": [
      "<class 'numpy.ndarray'>\n"
     ]
    }
   ],
   "source": [
    "y_pred = lr.predict(df)\n",
    "print(type(y_pred))"
   ]
  },
  {
   "cell_type": "code",
   "execution_count": 16,
   "metadata": {},
   "outputs": [
    {
     "data": {
      "text/plain": [
       "<zip at 0x21c40e38488>"
      ]
     },
     "execution_count": 16,
     "metadata": {},
     "output_type": "execute_result"
    }
   ],
   "source": [
    "zip(y_pred, y)"
   ]
  },
  {
   "cell_type": "code",
   "execution_count": 17,
   "metadata": {},
   "outputs": [
    {
     "name": "stdout",
     "output_type": "stream",
     "text": [
      "(30.008212692344891, 24.0)\n",
      "(25.029860603819042, 21.600000000000001)\n",
      "(30.570231695891898, 34.700000000000003)\n",
      "(28.608140549202581, 33.399999999999999)\n",
      "(27.94288231932077, 36.200000000000003)\n",
      "(25.2594004793783, 28.699999999999999)\n",
      "(23.004339941026576, 22.899999999999999)\n",
      "(19.534755802206544, 27.100000000000001)\n",
      "(11.516965391483502, 16.5)\n",
      "(18.919814830982993, 18.899999999999999)\n",
      "(18.995826599304028, 15.0)\n",
      "(21.58970853723018, 18.899999999999999)\n",
      "(20.905348512348496, 21.699999999999999)\n",
      "(19.555359306743778, 20.399999999999999)\n",
      "(19.283795700376423, 18.199999999999999)\n",
      "(19.30000174440498, 19.899999999999999)\n",
      "(20.528899934974355, 23.100000000000001)\n",
      "(16.909674898646287, 17.5)\n",
      "(16.170674106084203, 20.199999999999999)\n",
      "(18.407816357002162, 18.199999999999999)\n",
      "(12.520404544697548, 13.6)\n",
      "(17.671045654953868, 19.600000000000001)\n",
      "(15.829348906953495, 15.199999999999999)\n",
      "(13.80368317247158, 14.5)\n",
      "(15.677081383419143, 15.6)\n",
      "(13.379164499389148, 13.9)\n",
      "(15.462588290847162, 16.600000000000001)\n",
      "(14.698636070512471, 14.800000000000001)\n",
      "(19.545185119156571, 18.399999999999999)\n",
      "(20.87309945384073, 21.0)\n",
      "(11.448068252640905, 12.699999999999999)\n",
      "(18.059004122012841, 14.5)\n",
      "(8.7884166608372887, 13.199999999999999)\n",
      "(14.278823185818943, 13.1)\n",
      "(13.690971317486241, 13.5)\n",
      "(23.817554688219879, 18.899999999999999)\n",
      "(22.342162852092549, 20.0)\n",
      "(23.111232035368531, 21.0)\n",
      "(22.914941565514297, 24.699999999999999)\n",
      "(31.358262156677608, 30.800000000000001)\n",
      "(34.214853851251888, 34.899999999999999)\n",
      "(28.020713197805961, 26.600000000000001)\n",
      "(25.206465719600921, 25.300000000000001)\n",
      "(24.611928505082048, 24.699999999999999)\n",
      "(22.94438953217356, 21.199999999999999)\n",
      "(22.101509452341602, 19.300000000000001)\n",
      "(20.424674174499529, 20.0)\n",
      "(18.036140221183789, 16.600000000000001)\n",
      "(9.1017619808964945, 14.4)\n",
      "(17.208565708265169, 19.399999999999999)\n",
      "(21.282593718054137, 19.699999999999999)\n",
      "(23.976212484959262, 20.5)\n",
      "(27.658535207872973, 25.0)\n",
      "(24.052108797043495, 23.399999999999999)\n",
      "(15.359891319500193, 18.899999999999999)\n",
      "(31.148170025657723, 35.399999999999999)\n",
      "(24.858787464295624, 24.699999999999999)\n",
      "(33.110171106911025, 31.600000000000001)\n",
      "(21.774580356022696, 23.300000000000001)\n",
      "(21.085267388779265, 19.600000000000001)\n",
      "(17.872035375138594, 18.699999999999999)\n",
      "(18.508813814468596, 16.0)\n",
      "(23.987980898298197, 22.199999999999999)\n",
      "(22.549440982623601, 25.0)\n",
      "(23.370684025029153, 33.0)\n",
      "(30.365575842322599, 23.5)\n",
      "(25.53407332428494, 19.399999999999999)\n",
      "(21.117585038469194, 22.0)\n",
      "(17.424682231873518, 17.399999999999999)\n",
      "(20.789308603516787, 20.899999999999999)\n",
      "(25.203491743535523, 24.199999999999999)\n",
      "(21.744905948636411, 21.699999999999999)\n",
      "(24.562756115913785, 22.800000000000001)\n",
      "(24.0447951915293, 23.399999999999999)\n",
      "(25.509115704536534, 24.100000000000001)\n",
      "(23.970767582161152, 21.399999999999999)\n",
      "(22.948235189431539, 20.0)\n",
      "(23.361060946047992, 20.800000000000001)\n",
      "(21.264325488889504, 21.199999999999999)\n",
      "(22.434537595949831, 20.300000000000001)\n",
      "(28.406999367148771, 28.0)\n",
      "(26.997347160395343, 23.899999999999999)\n",
      "(26.038072460603459, 24.800000000000001)\n",
      "(25.061521247735335, 22.899999999999999)\n",
      "(24.78586130395837, 23.899999999999999)\n",
      "(27.792918891627288, 26.600000000000001)\n",
      "(22.16927072582282, 22.5)\n",
      "(25.896856635363452, 22.199999999999999)\n",
      "(30.677715217992208, 23.600000000000001)\n",
      "(30.832258860274376, 28.699999999999999)\n",
      "(27.121273537288221, 22.600000000000001)\n",
      "(27.415978251894551, 22.0)\n",
      "(28.94564779848907, 22.899999999999999)\n",
      "(29.086680032038405, 25.0)\n",
      "(27.04501726466038, 20.600000000000001)\n",
      "(28.625067051607111, 28.399999999999999)\n",
      "(24.730382184304425, 21.399999999999999)\n",
      "(35.780623783019074, 38.700000000000003)\n",
      "(35.112695149881311, 43.799999999999997)\n",
      "(32.251154678501351, 33.200000000000003)\n",
      "(24.579467855460983, 27.5)\n",
      "(25.593862148819717, 26.5)\n",
      "(19.764391373815712, 18.600000000000001)\n",
      "(20.311571167257981, 19.300000000000001)\n",
      "(21.435363501684513, 20.100000000000001)\n",
      "(18.539719683219815, 19.5)\n",
      "(17.185726113907414, 19.5)\n",
      "(20.749349494014545, 20.399999999999999)\n",
      "(22.647913455859317, 19.800000000000001)\n",
      "(19.770009770971271, 19.399999999999999)\n",
      "(20.647453492995744, 21.699999999999999)\n",
      "(26.5265269100721, 22.800000000000001)\n",
      "(20.774405543958025, 18.800000000000001)\n",
      "(20.715464323550464, 18.699999999999999)\n",
      "(25.174614840987857, 18.5)\n",
      "(20.427365203822347, 18.300000000000001)\n",
      "(23.378625212899919, 21.199999999999999)\n",
      "(23.694541450427621, 19.199999999999999)\n",
      "(20.332022386479231, 20.399999999999999)\n",
      "(20.793781392182495, 19.300000000000001)\n",
      "(21.920244141311695, 22.0)\n",
      "(22.474320058503121, 20.300000000000001)\n",
      "(20.558846351966125, 20.5)\n",
      "(16.363007643809187, 17.300000000000001)\n",
      "(20.563421113029911, 18.800000000000001)\n",
      "(22.485704543080441, 21.399999999999999)\n",
      "(14.612648388437261, 15.699999999999999)\n",
      "(15.180260696352779, 16.199999999999999)\n",
      "(18.938284432588596, 18.0)\n",
      "(14.057495497818003, 14.300000000000001)\n",
      "(20.03651959033828, 19.199999999999999)\n",
      "(19.413062879641309, 19.600000000000001)\n",
      "(20.064010335656512, 23.0)\n",
      "(15.760057721319864, 18.399999999999999)\n",
      "(13.247715772049986, 15.6)\n",
      "(17.261677290418103, 18.100000000000001)\n",
      "(15.877596722215955, 17.399999999999999)\n",
      "(19.361451043855595, 17.100000000000001)\n",
      "(13.812708138458849, 13.300000000000001)\n",
      "(16.447829342880684, 17.800000000000001)\n",
      "(13.565111010595295, 14.0)\n",
      "(3.9834397409417974, 14.4)\n",
      "(14.592412069108857, 13.4)\n",
      "(12.145030927836274, 15.6)\n",
      "(8.7240710758659041, 11.800000000000001)\n",
      "(12.008156585670307, 13.800000000000001)\n",
      "(15.803085862626059, 15.6)\n",
      "(8.5096392934434775, 14.6)\n",
      "(9.7096551228125989, 17.800000000000001)\n",
      "(14.798480672912401, 15.4)\n",
      "(20.835980961589133, 21.5)\n",
      "(18.300170132802812, 19.600000000000001)\n",
      "(20.125752670765333, 15.300000000000001)\n",
      "(17.275856806197147, 19.399999999999999)\n",
      "(22.359979920343136, 17.0)\n",
      "(20.079851835550212, 15.6)\n",
      "(13.599037440531603, 13.1)\n",
      "(33.266352214417246, 41.299999999999997)\n",
      "(29.039383786299467, 24.300000000000001)\n",
      "(25.566945288004078, 23.300000000000001)\n",
      "(32.71732164152408, 27.0)\n",
      "(36.781113881110244, 50.0)\n",
      "(40.566155330112601, 50.0)\n",
      "(41.851222714356837, 50.0)\n",
      "(24.798756844669178, 22.699999999999999)\n",
      "(25.377154499325961, 25.0)\n",
      "(37.20662185455943, 50.0)\n",
      "(23.082446076713957, 23.800000000000001)\n",
      "(26.40326834212749, 23.800000000000001)\n",
      "(26.656474326219559, 22.300000000000001)\n",
      "(22.554129191715347, 17.399999999999999)\n",
      "(24.297094799792177, 19.100000000000001)\n",
      "(22.980248019722293, 23.100000000000001)\n",
      "(29.074883888737233, 23.600000000000001)\n",
      "(26.526200662204502, 22.600000000000001)\n",
      "(30.723512254687904, 29.399999999999999)\n",
      "(25.618353591220853, 23.199999999999999)\n",
      "(29.142032828538646, 24.600000000000001)\n",
      "(31.436906344554927, 29.899999999999999)\n",
      "(32.923293800156159, 37.200000000000003)\n",
      "(34.720964871910382, 39.799999999999997)\n",
      "(27.76792733486965, 36.200000000000003)\n",
      "(33.889928992022682, 37.899999999999999)\n",
      "(30.997258045066861, 32.5)\n",
      "(22.721242884694604, 26.399999999999999)\n",
      "(24.765676829884193, 29.600000000000001)\n",
      "(35.881317188866539, 50.0)\n",
      "(33.426962421303031, 32.0)\n",
      "(32.415136248716138, 29.800000000000001)\n",
      "(34.516118183202913, 34.899999999999999)\n",
      "(30.76057665877866, 37.0)\n",
      "(30.291698927487111, 30.5)\n",
      "(32.920402211821674, 36.399999999999999)\n",
      "(32.114599121212038, 31.100000000000001)\n",
      "(31.561333848230717, 29.100000000000001)\n",
      "(40.842746034391254, 50.0)\n",
      "(36.130463425610898, 33.299999999999997)\n",
      "(32.666392705998675, 30.300000000000001)\n",
      "(34.705586469871641, 34.600000000000001)\n",
      "(30.092762280212682, 34.899999999999999)\n",
      "(30.641397236824822, 32.899999999999999)\n",
      "(29.291897044113234, 24.100000000000001)\n",
      "(37.070626228172756, 42.299999999999997)\n",
      "(42.028796113611193, 48.5)\n",
      "(43.185827223984802, 50.0)\n",
      "(22.69238879772228, 22.600000000000001)\n",
      "(23.684205692273423, 24.399999999999999)\n",
      "(17.854352952873811, 22.5)\n",
      "(23.495438565829964, 24.399999999999999)\n",
      "(17.008724184981528, 20.0)\n",
      "(22.395350659519529, 21.699999999999999)\n",
      "(17.061522433502436, 19.300000000000001)\n",
      "(22.74106824220847, 22.399999999999999)\n",
      "(25.219742523171565, 28.100000000000001)\n",
      "(11.106011606045385, 23.699999999999999)\n",
      "(24.513006167069534, 25.0)\n",
      "(26.607490258270005, 23.300000000000001)\n",
      "(28.358024435102735, 28.699999999999999)\n",
      "(24.918604575058367, 21.5)\n",
      "(29.69254950609259, 23.0)\n",
      "(33.184927550593976, 26.699999999999999)\n",
      "(23.771455228784344, 21.699999999999999)\n",
      "(32.140865078413491, 27.5)\n",
      "(29.748023621859907, 30.100000000000001)\n",
      "(38.366056319129513, 44.799999999999997)\n",
      "(39.807164584701312, 50.0)\n",
      "(37.58362545674531, 37.600000000000001)\n",
      "(32.397697035307708, 31.600000000000001)\n",
      "(35.450482572931548, 46.700000000000003)\n",
      "(31.234464806545009, 31.5)\n",
      "(24.484783211694229, 24.300000000000001)\n",
      "(33.28615723076939, 31.699999999999999)\n",
      "(38.043681635397562, 41.700000000000003)\n",
      "(37.157372670446605, 48.299999999999997)\n",
      "(31.712974689029018, 29.0)\n",
      "(25.266580174645917, 24.0)\n",
      "(30.101515000418658, 25.100000000000001)\n",
      "(32.718976554594647, 31.5)\n",
      "(28.427353758986627, 23.699999999999999)\n",
      "(28.429991681043617, 23.300000000000001)\n",
      "(27.291321497180505, 22.0)\n",
      "(23.744466705654958, 20.100000000000001)\n",
      "(24.118789410417119, 22.199999999999999)\n",
      "(27.402412087403299, 23.699999999999999)\n",
      "(16.329935748551243, 17.600000000000001)\n",
      "(13.396952134661213, 18.5)\n",
      "(20.016555805800294, 24.300000000000001)\n",
      "(19.862059038309365, 20.5)\n",
      "(21.286046038760734, 24.5)\n",
      "(24.077964818139133, 26.199999999999999)\n",
      "(24.206037924095032, 24.399999999999999)\n",
      "(25.042015337797757, 24.800000000000001)\n",
      "(24.917090968077133, 29.600000000000001)\n",
      "(29.937629752573674, 42.799999999999997)\n",
      "(23.977090541407961, 21.899999999999999)\n",
      "(21.699319690388855, 20.899999999999999)\n",
      "(37.510513813075846, 44.0)\n",
      "(43.294593573605461, 50.0)\n",
      "(36.481214265332213, 36.0)\n",
      "(34.991297014288996, 30.100000000000001)\n",
      "(34.808657287701323, 33.799999999999997)\n",
      "(37.162963742818079, 43.100000000000001)\n",
      "(40.982363804045356, 48.799999999999997)\n",
      "(34.442116907398855, 31.0)\n",
      "(35.831780677554129, 36.5)\n",
      "(28.249136468609983, 22.800000000000001)\n",
      "(31.220223118379771, 30.699999999999999)\n",
      "(40.832562017307907, 50.0)\n",
      "(39.317688078149629, 43.5)\n",
      "(25.710994243502547, 20.699999999999999)\n",
      "(22.303448784678203, 21.100000000000001)\n",
      "(27.205513409100323, 25.199999999999999)\n",
      "(28.513863519852123, 24.399999999999999)\n",
      "(35.474941222679377, 35.200000000000003)\n",
      "(36.111106471237079, 32.399999999999999)\n",
      "(33.8000480693226, 32.0)\n",
      "(35.611419508332631, 33.200000000000003)\n",
      "(34.843117423072421, 33.100000000000001)\n",
      "(30.353593229776457, 29.100000000000001)\n",
      "(35.31260262023126, 35.100000000000001)\n",
      "(38.796848080087315, 45.399999999999999)\n",
      "(34.332965412039627, 35.399999999999999)\n",
      "(40.340386359593438, 46.0)\n",
      "(44.673399227722975, 50.0)\n",
      "(31.595547296019586, 32.200000000000003)\n",
      "(27.35994641878095, 22.0)\n",
      "(20.095205962294447, 20.100000000000001)\n",
      "(27.045185236731118, 23.199999999999999)\n",
      "(27.216743972439922, 22.300000000000001)\n",
      "(26.911052257384537, 24.800000000000001)\n",
      "(33.436029793735813, 28.5)\n",
      "(34.40228785472241, 37.299999999999997)\n",
      "(31.833741807948279, 27.899999999999999)\n",
      "(25.82416034855936, 23.899999999999999)\n",
      "(24.436871393646172, 21.699999999999999)\n",
      "(28.463488908752726, 28.600000000000001)\n",
      "(27.369161757977736, 27.100000000000001)\n",
      "(19.54441877655654, 20.300000000000001)\n",
      "(29.114806789155253, 22.5)\n",
      "(31.908526989887449, 29.0)\n",
      "(30.77325183404059, 24.800000000000001)\n",
      "(28.943083504363472, 22.0)\n",
      "(28.881081062840842, 26.399999999999999)\n",
      "(32.798767944026345, 33.100000000000001)\n",
      "(33.203569486762134, 36.100000000000001)\n",
      "(30.765685457217227, 28.399999999999999)\n",
      "(35.558434848775761, 33.399999999999999)\n",
      "(32.707254359868053, 28.199999999999999)\n",
      "(28.647598612745348, 22.800000000000001)\n",
      "(23.5938843884298, 20.300000000000001)\n",
      "(18.546155801287945, 16.100000000000001)\n",
      "(26.884290235032708, 22.100000000000001)\n",
      "(23.284854418806876, 19.399999999999999)\n",
      "(25.550022009836134, 21.600000000000001)\n",
      "(25.483373227522353, 23.800000000000001)\n",
      "(20.543437687268817, 16.199999999999999)\n",
      "(17.614063837139209, 17.800000000000001)\n",
      "(18.376279327299351, 19.800000000000001)\n",
      "(24.291875938829143, 23.100000000000001)\n",
      "(21.32572019524785, 21.0)\n",
      "(24.888261312979296, 23.800000000000001)\n",
      "(24.871430486144021, 23.100000000000001)\n",
      "(22.872556052759393, 20.399999999999999)\n",
      "(19.454023398540262, 18.5)\n",
      "(25.119487412280016, 25.0)\n",
      "(24.668163741964705, 24.600000000000001)\n",
      "(23.682096563325057, 23.0)\n",
      "(19.339517250225512, 22.199999999999999)\n",
      "(21.176360408656098, 19.300000000000001)\n",
      "(24.253065877079646, 22.600000000000001)\n",
      "(21.593111966815425, 19.800000000000001)\n",
      "(19.987666674728182, 17.100000000000001)\n",
      "(23.34079583735042, 19.399999999999999)\n",
      "(22.139739585180507, 22.199999999999999)\n",
      "(21.553491962938303, 20.699999999999999)\n",
      "(20.618088678728402, 21.100000000000001)\n",
      "(20.160757095719106, 19.5)\n",
      "(19.28455466411037, 18.5)\n",
      "(22.165939190846984, 20.600000000000001)\n",
      "(21.248937352891446, 19.0)\n",
      "(21.429854558746015, 18.699999999999999)\n",
      "(30.328745231141461, 32.700000000000003)\n",
      "(22.049153962887949, 16.5)\n",
      "(27.706101248913725, 23.899999999999999)\n",
      "(28.545950040077379, 31.199999999999999)\n",
      "(16.546570630556218, 17.5)\n",
      "(14.782782612414053, 17.199999999999999)\n",
      "(25.273367717625604, 23.100000000000001)\n",
      "(27.540880535834212, 24.5)\n",
      "(22.146334672503819, 26.600000000000001)\n",
      "(20.460812057607932, 22.899999999999999)\n",
      "(20.544723324706737, 24.100000000000001)\n",
      "(16.881943908810335, 18.600000000000001)\n",
      "(25.400669556458432, 30.100000000000001)\n",
      "(14.322995468737233, 18.199999999999999)\n",
      "(16.592740301905554, 20.600000000000001)\n",
      "(19.632245966643346, 17.800000000000001)\n",
      "(22.711730202680634, 21.699999999999999)\n",
      "(22.1994694916608, 22.699999999999999)\n",
      "(19.198915098602384, 22.600000000000001)\n",
      "(22.660910193434518, 25.0)\n",
      "(18.920593743308828, 19.899999999999999)\n",
      "(18.227153592610097, 20.800000000000001)\n",
      "(20.224443861052997, 16.800000000000001)\n",
      "(37.479460986088135, 21.899999999999999)\n",
      "(14.291725830815579, 27.5)\n",
      "(15.536971480579339, 21.899999999999999)\n",
      "(10.828258169065382, 23.100000000000001)\n",
      "(23.811349869393865, 50.0)\n",
      "(32.647871629195762, 50.0)\n",
      "(34.611634007877122, 50.0)\n",
      "(24.946041023954713, 50.0)\n",
      "(26.002597244200942, 50.0)\n",
      "(6.1208572825185286, 13.800000000000001)\n",
      "(0.7802112649517241, 13.800000000000001)\n",
      "(25.311373002270436, 15.0)\n",
      "(17.734659141740824, 13.9)\n",
      "(20.225932822471059, 13.300000000000001)\n",
      "(15.838348605720981, 13.1)\n",
      "(16.837424005325165, 10.199999999999999)\n",
      "(14.431236081836524, 10.4)\n",
      "(18.476477729246334, 10.9)\n",
      "(13.424279334503609, 11.300000000000001)\n",
      "(13.056778235263721, 12.300000000000001)\n",
      "(3.2764648500886295, 8.8000000000000007)\n",
      "(8.0593646728985426, 7.2000000000000002)\n",
      "(6.1390311373350315, 10.5)\n",
      "(5.6227121261481976, 7.4000000000000004)\n",
      "(6.4493515374463506, 10.199999999999999)\n",
      "(14.205974507459288, 11.5)\n",
      "(17.210226712660557, 15.1)\n",
      "(17.290350654406833, 23.199999999999999)\n",
      "(9.8906435147418321, 9.6999999999999993)\n",
      "(20.219722221958399, 13.800000000000001)\n",
      "(17.945110515917495, 12.699999999999999)\n",
      "(20.300175884526276, 13.1)\n",
      "(19.287903175343402, 12.5)\n",
      "(16.333000084070534, 8.5)\n",
      "(6.5684366211115695, 5.0)\n",
      "(10.875415771468276, 6.2999999999999998)\n",
      "(11.887040974380692, 5.5999999999999996)\n",
      "(17.810989286113241, 7.2000000000000002)\n",
      "(18.254610663142291, 12.1)\n",
      "(12.992827069448417, 8.3000000000000007)\n",
      "(7.3931905331254058, 8.5)\n",
      "(8.2560956143736632, 5.0)\n",
      "(8.0789997118172181, 11.9)\n",
      "(19.985637151317132, 27.899999999999999)\n",
      "(13.696517442811878, 17.199999999999999)\n",
      "(19.835114119776815, 27.5)\n",
      "(15.234537804614476, 15.0)\n",
      "(16.931124190048806, 17.199999999999999)\n",
      "(1.6934740632766676, 17.899999999999999)\n",
      "(11.81116262921152, 16.300000000000001)\n",
      "(-4.2830093419221669, 7.0)\n",
      "(9.5500784360199766, 7.2000000000000002)\n",
      "(13.326355212506041, 7.5)\n",
      "(6.8835107716418769, 10.4)\n",
      "(6.1682741718058658, 8.8000000000000007)\n",
      "(14.569332345986773, 8.4000000000000004)\n",
      "(19.592929315286554, 16.699999999999999)\n",
      "(18.115168596058943, 14.199999999999999)\n"
     ]
    },
    {
     "name": "stdout",
     "output_type": "stream",
     "text": [
      "(18.520119872223873, 20.800000000000001)\n",
      "(13.137074572062268, 13.4)\n",
      "(14.596626012436449, 11.699999999999999)\n",
      "(9.8923748990081961, 8.3000000000000007)\n",
      "(16.319980484720677, 10.199999999999999)\n",
      "(14.067503009748929, 10.9)\n",
      "(14.225735677136903, 11.0)\n",
      "(13.00752250688009, 9.5)\n",
      "(18.132775466923206, 14.5)\n",
      "(18.666454961627089, 14.1)\n",
      "(21.502837953394874, 16.100000000000001)\n",
      "(17.000393790016815, 14.300000000000001)\n",
      "(15.939266017124879, 11.699999999999999)\n",
      "(13.329527160057356, 13.4)\n",
      "(14.489492108908003, 9.5999999999999996)\n",
      "(8.7836673082018208, 8.6999999999999993)\n",
      "(4.8300317049747008, 8.4000000000000004)\n",
      "(13.061155281235898, 12.800000000000001)\n",
      "(12.711014724342736, 10.5)\n",
      "(17.288762403965769, 17.100000000000001)\n",
      "(18.73424906139935, 18.399999999999999)\n",
      "(18.052710131505364, 15.4)\n",
      "(11.498556118530349, 10.800000000000001)\n",
      "(13.008415122982417, 11.800000000000001)\n",
      "(17.669755765538568, 14.9)\n",
      "(18.123422937864575, 12.6)\n",
      "(17.51503230722021, 14.1)\n",
      "(17.213072033212345, 13.0)\n",
      "(16.482385430651995, 13.4)\n",
      "(19.40079737350441, 15.199999999999999)\n",
      "(18.57392951396762, 16.100000000000001)\n",
      "(22.478331859045134, 17.800000000000001)\n",
      "(15.241798355478352, 14.9)\n",
      "(15.783276086571547, 14.1)\n",
      "(12.648537775395507, 12.699999999999999)\n",
      "(12.841210489222838, 13.5)\n",
      "(17.171736609674731, 14.9)\n",
      "(18.509068577852268, 20.0)\n",
      "(19.028038742212104, 16.399999999999999)\n",
      "(20.164417730515879, 17.699999999999999)\n",
      "(19.769753351683839, 19.5)\n",
      "(22.426149366013085, 20.199999999999999)\n",
      "(20.317503138035931, 21.399999999999999)\n",
      "(17.876188371345364, 19.899999999999999)\n",
      "(14.33913409815278, 19.0)\n",
      "(16.937156030868657, 19.100000000000001)\n",
      "(16.987166294491171, 19.100000000000001)\n",
      "(18.59431701303129, 20.100000000000001)\n",
      "(20.163951545938836, 19.899999999999999)\n",
      "(22.977435459783326, 19.600000000000001)\n",
      "(22.451106388589672, 23.199999999999999)\n",
      "(25.570720702134771, 29.800000000000001)\n",
      "(16.390911115820781, 13.800000000000001)\n",
      "(16.097654269546222, 13.300000000000001)\n",
      "(20.528356890807309, 16.699999999999999)\n",
      "(11.542904504798145, 12.0)\n",
      "(19.203874824235072, 14.6)\n",
      "(21.868206028383497, 21.399999999999999)\n",
      "(23.470522031749407, 23.0)\n",
      "(27.100344940155193, 23.699999999999999)\n",
      "(28.570648131570845, 25.0)\n",
      "(21.083988102338967, 21.800000000000001)\n",
      "(19.449052902199139, 20.600000000000001)\n",
      "(22.218922095982599, 21.199999999999999)\n",
      "(19.654230661967986, 19.100000000000001)\n",
      "(21.324670996234953, 20.600000000000001)\n",
      "(11.862313638504951, 15.199999999999999)\n",
      "(8.2226059222272916, 7.0)\n",
      "(3.6582516843338126, 8.0999999999999996)\n",
      "(13.762759507002446, 13.6)\n",
      "(15.937809442912929, 20.100000000000001)\n",
      "(20.627300965903956, 21.800000000000001)\n",
      "(20.610354427959251, 24.5)\n",
      "(16.880480350077836, 23.100000000000001)\n",
      "(14.010172437519209, 19.699999999999999)\n",
      "(19.108255341625053, 18.300000000000001)\n",
      "(21.297207409460377, 21.199999999999999)\n",
      "(18.455242173551277, 17.5)\n",
      "(20.467642350513934, 16.800000000000001)\n",
      "(23.532617285111272, 22.399999999999999)\n",
      "(22.378697978108711, 20.600000000000001)\n",
      "(27.629342467287024, 23.899999999999999)\n",
      "(26.129838438269871, 22.0)\n",
      "(22.348702685915953, 11.9)\n"
     ]
    }
   ],
   "source": [
    "for i in zip(y_pred,y):\n",
    "    print(i)"
   ]
  },
  {
   "cell_type": "markdown",
   "metadata": {},
   "source": [
    "# Evaluate using mean absolute value and [r2_score](http://scikit-learn.org/stable/modules/model_evaluation.html#r2-score)"
   ]
  },
  {
   "cell_type": "code",
   "execution_count": 18,
   "metadata": {},
   "outputs": [
    {
     "name": "stdout",
     "output_type": "stream",
     "text": [
      "3.272944638\n",
      "0.740607742865\n"
     ]
    }
   ],
   "source": [
    "from sklearn import metrics\n",
    "\n",
    "print(metrics.mean_absolute_error(y, y_pred))\n",
    "print(metrics.r2_score(y, y_pred))"
   ]
  },
  {
   "cell_type": "code",
   "execution_count": 19,
   "metadata": {
    "collapsed": true
   },
   "outputs": [],
   "source": [
    "scatter?"
   ]
  },
  {
   "cell_type": "code",
   "execution_count": 20,
   "metadata": {
    "scrolled": true
   },
   "outputs": [
    {
     "data": {
      "text/plain": [
       "<matplotlib.collections.PathCollection at 0x21c412ce358>"
      ]
     },
     "execution_count": 20,
     "metadata": {},
     "output_type": "execute_result"
    },
    {
     "data": {
      "image/png": "[encoded data removed]",
      "text/plain": [
       "<matplotlib.figure.Figure at 0x21c40e2ac50>"
      ]
     },
     "metadata": {},
     "output_type": "display_data"
    }
   ],
   "source": [
    "scatter(y=y_pred, x=y)"
   ]
  },
  {
   "cell_type": "markdown",
   "metadata": {},
   "source": [
    "# Great numbers BUT, what is the catch?\n",
    "The model already \"knows\" the labels: it's cheating!"
   ]
  },
  {
   "cell_type": "markdown",
   "metadata": {},
   "source": [
    "# Split train-test sets"
   ]
  },
  {
   "cell_type": "code",
   "execution_count": 21,
   "metadata": {
    "collapsed": true
   },
   "outputs": [],
   "source": [
    "from sklearn.model_selection import train_test_split\n",
    "\n",
    "train_test_split?"
   ]
  },
  {
   "cell_type": "code",
   "execution_count": 22,
   "metadata": {},
   "outputs": [
    {
     "name": "stdout",
     "output_type": "stream",
     "text": [
      "(354, 13)\n",
      "(152, 13)\n",
      "(354,)\n",
      "(152,)\n"
     ]
    }
   ],
   "source": [
    "X_train, X_test, y_train, y_test = train_test_split(df, y, test_size=0.3, random_state=11)\n",
    "print(X_train.shape)\n",
    "print(X_test.shape)\n",
    "print(y_train.shape)\n",
    "print(y_test.shape)"
   ]
  },
  {
   "cell_type": "markdown",
   "metadata": {},
   "source": [
    "# Bigger quiz\n",
    "* Train a new linear regression model on X_train, y_train\n",
    "* Predict y_pred on X_test\n",
    "* Scatter plot y_pred, y_test\n",
    "* calculate mean absolute error and r2 score"
   ]
  },
  {
   "cell_type": "code",
   "execution_count": 23,
   "metadata": {},
   "outputs": [
    {
     "data": {
      "text/plain": [
       "LinearRegression(copy_X=True, fit_intercept=True, n_jobs=1, normalize=False)"
      ]
     },
     "execution_count": 23,
     "metadata": {},
     "output_type": "execute_result"
    }
   ],
   "source": [
    "lr = LinearRegression()\n",
    "lr.fit(X_train, y_train)"
   ]
  },
  {
   "cell_type": "code",
   "execution_count": 24,
   "metadata": {
    "collapsed": true
   },
   "outputs": [],
   "source": [
    "y_pred = lr.predict(X_test)"
   ]
  },
  {
   "cell_type": "code",
   "execution_count": 25,
   "metadata": {},
   "outputs": [
    {
     "data": {
      "text/plain": [
       "<zip at 0x21c412c3cc8>"
      ]
     },
     "execution_count": 25,
     "metadata": {},
     "output_type": "execute_result"
    }
   ],
   "source": [
    "zip(y_pred, y)"
   ]
  },
  {
   "cell_type": "code",
   "execution_count": 26,
   "metadata": {},
   "outputs": [
    {
     "name": "stdout",
     "output_type": "stream",
     "text": [
      "3.54377196382\n",
      "0.726204971106\n"
     ]
    }
   ],
   "source": [
    "print(metrics.mean_absolute_error(y_test, y_pred))\n",
    "print(metrics.r2_score(y_test, y_pred))"
   ]
  },
  {
   "cell_type": "code",
   "execution_count": 27,
   "metadata": {
    "scrolled": true
   },
   "outputs": [
    {
     "data": {
      "text/plain": [
       "<matplotlib.collections.PathCollection at 0x21c41378358>"
      ]
     },
     "execution_count": 27,
     "metadata": {},
     "output_type": "execute_result"
    },
    {
     "data": {
      "image/png": "[encoded data removed]",
      "text/plain": [
       "<matplotlib.figure.Figure at 0x21c3f8a30b8>"
      ]
     },
     "metadata": {},
     "output_type": "display_data"
    }
   ],
   "source": [
    "scatter(y=y_pred, x=y_test)"
   ]
  },
  {
   "cell_type": "markdown",
   "metadata": {},
   "source": [
    "# Model comparison\n",
    "* Linear regression\n",
    "* Lasso regression: linear regression with L1 regularization\n",
    "* SVM regression\n",
    "* Decision tree regression"
   ]
  },
  {
   "cell_type": "code",
   "execution_count": 28,
   "metadata": {
    "collapsed": true
   },
   "outputs": [],
   "source": [
    "from sklearn.linear_model import Lasso\n",
    "from sklearn.svm import SVR\n",
    "from sklearn.tree import DecisionTreeRegressor"
   ]
  },
  {
   "cell_type": "code",
   "execution_count": 29,
   "metadata": {
    "collapsed": true
   },
   "outputs": [],
   "source": [
    "Lasso?"
   ]
  },
  {
   "cell_type": "code",
   "execution_count": 30,
   "metadata": {
    "collapsed": true
   },
   "outputs": [],
   "source": [
    "SVR?"
   ]
  },
  {
   "cell_type": "code",
   "execution_count": 31,
   "metadata": {
    "collapsed": true
   },
   "outputs": [],
   "source": [
    "DecisionTreeRegressor?"
   ]
  },
  {
   "cell_type": "code",
   "execution_count": 32,
   "metadata": {
    "collapsed": true
   },
   "outputs": [],
   "source": [
    "lasso = Lasso()\n",
    "svr = SVR()\n",
    "dtr = DecisionTreeRegressor()\n",
    "\n",
    "models = (lr, lasso, svr, dtr)\n",
    "\n",
    "for model in models:\n",
    "    model.fit(X_train, y_train)"
   ]
  },
  {
   "cell_type": "code",
   "execution_count": 33,
   "metadata": {
    "collapsed": true
   },
   "outputs": [],
   "source": [
    "y_preds = [model.predict(X_test) for model in models]"
   ]
  },
  {
   "cell_type": "code",
   "execution_count": 34,
   "metadata": {},
   "outputs": [
    {
     "data": {
      "text/plain": [
       "[array([ 23.84511817,   2.88426841,  27.76633861,  26.04249007,\n",
       "          6.76316313,  15.35541663,  23.56500079,   4.90218715,\n",
       "         40.73094074,  30.08405102,  10.49820545,  17.53870021,\n",
       "         25.79296314,  23.41327065,  19.18044314,   7.46239972,\n",
       "         35.91178934,  30.93404371,  22.32918975,  13.50668882,\n",
       "         26.55733115,  34.02181675,  43.6563234 ,  33.44813081,\n",
       "         13.07511303,  12.50832552,  15.92047244,  19.18436321,\n",
       "         31.68869889,  25.04033235,  12.53125467,  11.73831064,\n",
       "         20.05702853,  16.48196613,  24.69407984,  23.13757738,\n",
       "         26.49138905,  19.73388257,  20.61196586,  35.04976003,\n",
       "         23.52204105,  31.01418097,  26.95232052,  13.20403704,\n",
       "         27.51568394,  20.47648818,  21.5362907 ,  26.40141089,\n",
       "         20.01322823,  18.62521146,  23.67383693,  38.26213637,\n",
       "         26.19999601,  29.54287364,  38.76919964,  31.38330385,\n",
       "         33.21749275,  17.29934134,  19.97054504,  17.58043181,\n",
       "         24.43965061,  22.1907987 ,  11.81570295,  19.87708088,\n",
       "         22.20317672,   7.58585511,  13.86474148,  14.54904038,\n",
       "         30.15872227,  40.98805727,  28.38648177,  14.92849467,\n",
       "         16.59604701,  13.12122248,  15.94547309,  28.82177337,\n",
       "         36.678139  ,  14.98051617,  33.77572845,  22.92620665,\n",
       "         13.05480286,  13.53203134,  38.9905507 ,  21.68056225,\n",
       "         19.67660105,  14.72274585,  14.08591905,  25.28058531,\n",
       "         20.76243081,  18.67069164,  21.50308717,  28.60866791,\n",
       "         19.96260135,  16.6403258 ,  24.3113633 ,  30.6149575 ,\n",
       "         24.98590288,  27.06266255,  20.30307232,  20.77625559,\n",
       "         23.13084171,  20.19891876,  31.54676516,  21.25352823,\n",
       "         18.09824884,  19.64797142,  33.02988297,  28.69666683,\n",
       "         24.86609179,  18.10066377,  11.12362374,  22.88160598,\n",
       "         15.04078472,  19.5925573 ,  27.51040175,  18.87356123,\n",
       "         18.57601697,  18.35415906,  24.58605802,  18.65807881,\n",
       "         11.997063  ,  24.95246138,  17.58372459,  24.24822777,\n",
       "         23.78873061,  23.0494951 ,  25.00235067,  26.97911576,\n",
       "         16.75512323,  23.0791446 ,  33.39875336,  19.8319983 ,\n",
       "         30.09756374,  13.77306834,  40.83573793,  43.35471235,\n",
       "         10.99688785,  23.00258735,  25.57135185,  15.13756968,\n",
       "         31.643733  ,  13.59252307,  27.56485067,  22.81912995,\n",
       "          8.2426809 ,   6.10400533,  35.4024006 ,  22.31492717,\n",
       "         25.20565448,  19.06219062,  35.10904236,  16.67110104]),\n",
       " array([ 25.41178631,   1.34939641,  25.76124092,  22.93890725,\n",
       "          7.58979501,  14.79129674,  25.20563689,   2.49888051,\n",
       "         35.01596695,  29.06326678,   6.31965056,  17.34588559,\n",
       "         26.04985398,  24.03231319,  16.40313998,   6.36435139,\n",
       "         31.01982569,  30.32363346,  26.12489723,  13.17014945,\n",
       "         25.85708508,  30.57457896,  38.11783983,  35.13762671,\n",
       "         10.59288555,  14.71373844,  16.76553811,  18.87400326,\n",
       "         31.66041887,  26.23214346,  10.93757822,  12.18847142,\n",
       "         18.86095735,  13.73449053,  23.43154062,  22.36401827,\n",
       "         23.52357738,  22.47276002,  20.63775071,  35.40077826,\n",
       "         24.08667671,  31.52776216,  26.25639932,  11.08012745,\n",
       "         28.67696192,  20.43890263,  21.75891851,  27.67869511,\n",
       "         20.45859656,  22.08567168,  21.93041505,  30.27615721,\n",
       "         26.77024745,  29.35848764,  34.48061678,  29.62860803,\n",
       "         31.58102837,  15.46478039,  23.29501875,  17.10867009,\n",
       "         18.88097793,  24.39126895,  14.3286428 ,  19.79383467,\n",
       "         22.68537785,   7.92740847,  13.84209034,  15.77285567,\n",
       "         28.66479393,  34.70528621,  28.48551075,  19.0545211 ,\n",
       "         21.63772598,  11.51716424,  19.21104512,  30.2004435 ,\n",
       "         35.17055603,  20.23774755,  28.73359248,  23.95667061,\n",
       "         14.90912579,  24.12927516,  36.43769616,  24.77626245,\n",
       "         22.52771178,  16.84354574,  15.52022497,  25.40230586,\n",
       "         19.4839225 ,  18.11519133,  22.75474315,  29.70326366,\n",
       "         21.30282963,  16.24111964,  24.65504896,  29.75296426,\n",
       "         25.86188106,  26.98105318,  20.41850539,  23.87685722,\n",
       "         22.08238977,  19.66839869,  30.07742171,  21.95136484,\n",
       "         20.54697146,  22.9211191 ,  30.40150749,  28.48173773,\n",
       "         28.51846143,  19.57620096,   7.75886726,  24.22419215,\n",
       "         14.80312578,  19.45691255,  27.06904247,  17.01198202,\n",
       "         18.1793055 ,  14.41776028,  22.74335312,  21.47925868,\n",
       "         11.49504871,  25.91078951,  18.24598864,  25.47526178,\n",
       "         22.23776553,  20.12670479,  26.11653268,  27.6051624 ,\n",
       "         16.88512168,  23.65779342,  33.14052599,  18.14901912,\n",
       "         29.43448013,  14.47199526,  35.29493829,  38.70420373,\n",
       "         11.15532193,  24.44331649,  24.97672633,  17.0413489 ,\n",
       "         32.22152686,  12.1350425 ,  26.68488226,  24.9431483 ,\n",
       "         11.56436771,   9.75372961,  31.41409676,  22.57108666,\n",
       "         27.69883326,  20.39709913,  30.51882496,  23.72113851]),\n",
       " array([ 21.71039168,  21.25674525,  21.25669878,  21.24056748,\n",
       "         21.25674525,  21.23311562,  20.53590267,  21.25674525,\n",
       "         21.25674525,  21.60606987,  21.25674525,  20.37921882,\n",
       "         21.62870241,  22.00885303,  20.08636148,  21.25674525,\n",
       "         21.25699514,  21.25684525,  20.84553311,  20.71383837,\n",
       "         21.25632915,  21.53890003,  21.76438469,  21.25674525,\n",
       "         21.25547806,  21.2560047 ,  21.25682415,  20.40040909,\n",
       "         21.47048433,  21.25625834,  20.54044601,  21.25674525,\n",
       "         21.09404147,  20.92357059,  21.30592562,  21.25671021,\n",
       "         21.37275252,  21.25679006,  20.83088579,  21.2771241 ,\n",
       "         21.25656486,  21.29744484,  21.25674525,  21.25674524,\n",
       "         21.2567454 ,  21.25683807,  20.44380176,  21.56176693,\n",
       "         21.18003992,  21.27886831,  21.05540633,  21.25674816,\n",
       "         21.33650734,  21.25674525,  21.37589584,  21.25674527,\n",
       "         21.28430008,  21.25666659,  21.25674558,  21.25671482,\n",
       "         21.22254101,  21.2567567 ,  20.37316849,  21.25667042,\n",
       "         21.25676098,  21.25674525,  20.28327055,  19.2936491 ,\n",
       "         21.25674565,  21.25735656,  21.36805507,  21.25674525,\n",
       "         21.25674525,  21.25674441,  21.24043464,  21.31954485,\n",
       "         21.25863464,  21.2567205 ,  21.26869222,  21.25588999,\n",
       "         21.25674516,  21.25328662,  21.25674808,  20.73986433,\n",
       "         21.25674525,  21.05841709,  21.0529818 ,  21.25674793,\n",
       "         20.82458847,  20.47090339,  21.25674525,  21.25690429,\n",
       "         21.25867664,  20.96574879,  21.19908924,  21.25680365,\n",
       "         21.25674525,  21.2572888 ,  21.10273812,  21.12697534,\n",
       "         20.75802991,  21.25674525,  21.27625946,  21.20607315,\n",
       "         21.10547368,  21.19057507,  21.57121529,  21.25625834,\n",
       "         21.25929455,  20.78309735,  21.25674525,  21.18642612,\n",
       "         21.25674525,  19.95927205,  21.25674525,  20.73751427,\n",
       "         21.25674302,  21.2567074 ,  21.25674525,  21.25673964,\n",
       "         21.25649337,  21.98787684,  21.25674525,  21.25731335,\n",
       "         21.25682689,  21.26421859,  21.26643111,  21.25676855,\n",
       "         19.69143889,  21.25671833,  22.24321001,  20.52484297,\n",
       "         21.25674525,  21.24145613,  21.43750578,  21.81574909,\n",
       "         21.24844851,  21.2571639 ,  21.25877654,  21.25674525,\n",
       "         21.25674558,  21.25674015,  21.48628882,  21.4757239 ,\n",
       "         20.78592422,  21.25674525,  21.25780057,  21.31102501,\n",
       "         21.25675125,  21.25671328,  21.25716344,  21.24491894]),\n",
       " array([ 19.7,  13.3,  21. ,  50. ,   8.8,  13.4,  24.7,   7.2,  50. ,\n",
       "         23.9,  17.8,  16.2,  23.9,  22.9,   7.2,  13.3,  33.8,  28.7,\n",
       "         28.1,  12.8,  22.2,  36.1,  48.8,  30.1,  13.3,  12.7,  16.2,\n",
       "         18.4,  28.7,  24.1,   8.3,   8.3,  17.8,   7.2,  22.9,  23.3,\n",
       "         23.8,  17.6,  16.8,  29.9,  28.7,  28.7,  24.1,  11. ,  21.9,\n",
       "         22.6,  19.3,  23.9,  12.7,  19.3,  19.5,  35.2,  20. ,  32.4,\n",
       "         50. ,  34.6,  34.7,  16.5,  11.9,  16.1,  20. ,  24.8,  13.4,\n",
       "         21.2,  20.7,   5. ,  12.8,  12.8,  30.5,  50. ,  33.4,  23.1,\n",
       "         13. ,  13.8,  17.5,  28.7,  30.7,  13.1,  30.1,  25.3,  13.3,\n",
       "         11.9,  45.4,  19. ,  17.5,  13.9,  15.6,  50. ,  18.8,  12.6,\n",
       "         25.1,  23.5,  17.6,  15.6,  18.5,  29.4,  23.3,  24.1,  16.6,\n",
       "         18.5,  19.3,  21.4,  29.1,  21.2,  24.7,  20.8,  50. ,  28.4,\n",
       "         24.8,  21.4,  11. ,  18.5,  16.8,  18.4,  24.4,  13.1,  10.2,\n",
       "          7.5,  21.4,  18.4,  19.1,  23.1,  21.8,  28.7,  24. ,  18.8,\n",
       "         23.1,  24.8,  13.1,  20.6,  32.4,  13.3,  29. ,  17.8,  50. ,\n",
       "         50. ,  15.2,  16.2,  28.2,  11.7,  34.6,   9.6,  31.1,  19.4,\n",
       "         13.4,   5. ,  43.1,  23.8,  24.1,  17. ,  45.4,  18.6])]"
      ]
     },
     "execution_count": 34,
     "metadata": {},
     "output_type": "execute_result"
    }
   ],
   "source": [
    "y_preds"
   ]
  },
  {
   "cell_type": "markdown",
   "metadata": {},
   "source": [
    "## Quantitative comparison"
   ]
  },
  {
   "cell_type": "code",
   "execution_count": 35,
   "metadata": {},
   "outputs": [
    {
     "name": "stdout",
     "output_type": "stream",
     "text": [
      "LinearRegression\n",
      "3.54377196382\n",
      "0.726204971106\n",
      "Lasso\n",
      "3.91226848713\n",
      "0.672192208981\n",
      "SVR\n",
      "6.66501592454\n",
      "0.0159562001279\n",
      "DecisionTreeRegressor\n",
      "3.10855263158\n",
      "0.739925831156\n"
     ]
    }
   ],
   "source": [
    "for model, y_pred in zip(models, y_preds):\n",
    "    print(str(model)[:str(model).index('(')])\n",
    "    print(metrics.mean_absolute_error(y_test, y_pred))\n",
    "    print(metrics.r2_score(y_test, y_pred))"
   ]
  },
  {
   "cell_type": "markdown",
   "metadata": {},
   "source": [
    "# Qualitative comparison"
   ]
  },
  {
   "cell_type": "code",
   "execution_count": 36,
   "metadata": {},
   "outputs": [
    {
     "data": {
      "image/png": "[encoded data removed]",
      "text/plain": [
       "<matplotlib.figure.Figure at 0x21c413ac9e8>"
      ]
     },
     "metadata": {},
     "output_type": "display_data"
    }
   ],
   "source": [
    "# change figure size\n",
    "rcParams['figure.figsize'] = 10, 10\n",
    "subs = (221, 222, 223, 224)\n",
    "\n",
    "for sub, model, y_pred in zip(subs, models, y_preds):\n",
    "    plt.subplot(sub)\n",
    "    plt.title(str(model)[:str(model).index('(')])\n",
    "    scatter(y_test, y_pred)"
   ]
  },
  {
   "cell_type": "markdown",
   "metadata": {},
   "source": [
    "# Feature scaling\n",
    "\n",
    "Feature scaling is important for gradient-based optimization algorithmes. Read [more](https://en.wikipedia.org/wiki/Feature_scaling)."
   ]
  },
  {
   "cell_type": "code",
   "execution_count": 37,
   "metadata": {
    "collapsed": true
   },
   "outputs": [],
   "source": [
    "from sklearn.preprocessing import minmax_scale\n",
    "\n",
    "minmax_scale?"
   ]
  },
  {
   "cell_type": "code",
   "execution_count": 38,
   "metadata": {},
   "outputs": [
    {
     "name": "stdout",
     "output_type": "stream",
     "text": [
      "(506, 13)\n",
      "(506, 13)\n",
      "[[  0.00000000e+00   1.80000000e-01   6.78152493e-02 ...,   2.87234043e-01\n",
      "    1.00000000e+00   8.96799117e-02]\n",
      " [  2.35922539e-04   0.00000000e+00   2.42302053e-01 ...,   5.53191489e-01\n",
      "    1.00000000e+00   2.04470199e-01]\n",
      " [  2.35697744e-04   0.00000000e+00   2.42302053e-01 ...,   5.53191489e-01\n",
      "    9.89737254e-01   6.34657837e-02]\n",
      " ..., \n",
      " [  6.11892474e-04   0.00000000e+00   4.20454545e-01 ...,   8.93617021e-01\n",
      "    1.00000000e+00   1.07891832e-01]\n",
      " [  1.16072990e-03   0.00000000e+00   4.20454545e-01 ...,   8.93617021e-01\n",
      "    9.91300620e-01   1.31070640e-01]\n",
      " [  4.61841693e-04   0.00000000e+00   4.20454545e-01 ...,   8.93617021e-01\n",
      "    1.00000000e+00   1.69701987e-01]]\n"
     ]
    }
   ],
   "source": [
    "X_scaled = minmax_scale(df)\n",
    "print(df.shape)\n",
    "print(X_scaled.shape)\n",
    "#print(df.CRIM)\n",
    "print(X_scaled)"
   ]
  },
  {
   "cell_type": "code",
   "execution_count": 39,
   "metadata": {
    "scrolled": true
   },
   "outputs": [
    {
     "data": {
      "text/plain": [
       "<matplotlib.axes._subplots.AxesSubplot at 0x21c41302978>"
      ]
     },
     "execution_count": 39,
     "metadata": {},
     "output_type": "execute_result"
    },
    {
     "data": {
      "image/png": "[encoded data removed]",
      "text/plain": [
       "<matplotlib.figure.Figure at 0x21c40e2a7f0>"
      ]
     },
     "metadata": {},
     "output_type": "display_data"
    }
   ],
   "source": [
    "rcParams['figure.figsize'] = 7, 5\n",
    "df['CRIM'].plot.hist()"
   ]
  },
  {
   "cell_type": "code",
   "execution_count": 40,
   "metadata": {
    "scrolled": true
   },
   "outputs": [
    {
     "data": {
      "text/plain": [
       "(array([ 440.,   43.,   14.,    1.,    3.,    2.,    0.,    1.,    1.,    1.]),\n",
       " array([ 0. ,  0.1,  0.2,  0.3,  0.4,  0.5,  0.6,  0.7,  0.8,  0.9,  1. ]),\n",
       " <a list of 10 Patch objects>)"
      ]
     },
     "execution_count": 40,
     "metadata": {},
     "output_type": "execute_result"
    },
    {
     "data": {
      "image/png": "[encoded data removed]",
      "text/plain": [
       "<matplotlib.figure.Figure at 0x21c41314828>"
      ]
     },
     "metadata": {},
     "output_type": "display_data"
    }
   ],
   "source": [
    "hist(X_scaled[:,0])"
   ]
  },
  {
   "cell_type": "raw",
   "metadata": {},
   "source": [
    "# Compared to no scaling:\n",
    "LinearRegression\n",
    "3.54377196382\n",
    "0.726204971106\n",
    "Lasso\n",
    "3.91226848713\n",
    "0.672192208981\n",
    "SVR\n",
    "6.66501592454\n",
    "0.0159562001279\n",
    "DecisionTreeRegressor\n",
    "3.27960526316\n",
    "0.722221949408"
   ]
  },
  {
   "cell_type": "code",
   "execution_count": 41,
   "metadata": {},
   "outputs": [
    {
     "name": "stdout",
     "output_type": "stream",
     "text": [
      "With feature scaling: \n",
      "LinearRegression\n",
      "3.54377196382\n",
      "0.726204971106\n",
      "With feature scaling: \n",
      "Lasso\n",
      "6.08557196359\n",
      "0.217892841777\n",
      "With feature scaling: \n",
      "SVR\n",
      "4.6893440203\n",
      "0.370777954232\n",
      "With feature scaling: \n",
      "DecisionTreeRegressor\n",
      "3.20197368421\n",
      "0.746739335165\n"
     ]
    }
   ],
   "source": [
    "X_train_s, X_test_s, y_train_s, y_test_s = train_test_split(X_scaled, y, test_size=0.3, random_state=11)\n",
    "lr_s = LinearRegression()\n",
    "lasso_s = Lasso()\n",
    "svr_s = SVR()\n",
    "dtr_s = DecisionTreeRegressor()\n",
    "\n",
    "models = (lr_s, lasso_s, svr_s, dtr_s)\n",
    "\n",
    "for model in models:\n",
    "    model.fit(X_train_s, y_train_s)\n",
    "    \n",
    "y_preds = [model.predict(X_test_s) for model in models]\n",
    "\n",
    "for model, y_pred in zip(models, y_preds):\n",
    "    print('With feature scaling: ')\n",
    "    print(str(model)[:str(model).index('(')])\n",
    "    print(metrics.mean_absolute_error(y_test_s, y_pred))\n",
    "    print(metrics.r2_score(y_test_s, y_pred))"
   ]
  },
  {
   "cell_type": "markdown",
   "metadata": {},
   "source": [
    "# Cross validation"
   ]
  },
  {
   "cell_type": "code",
   "execution_count": 48,
   "metadata": {
    "collapsed": true
   },
   "outputs": [],
   "source": [
    "from sklearn.model_selection import cross_val_score\n",
    "\n",
    "cross_val_score?"
   ]
  },
  {
   "cell_type": "code",
   "execution_count": 43,
   "metadata": {},
   "outputs": [
    {
     "data": {
      "text/plain": [
       "array([ 0.63861069,  0.71334432,  0.58645134,  0.07842495, -0.26312455])"
      ]
     },
     "execution_count": 43,
     "metadata": {},
     "output_type": "execute_result"
    }
   ],
   "source": [
    "cross_val_score(LinearRegression(), X, y , cv=5)"
   ]
  },
  {
   "cell_type": "markdown",
   "metadata": {},
   "source": [
    "## the estimator's score() method is used to compute the metrics for CV"
   ]
  },
  {
   "cell_type": "code",
   "execution_count": 44,
   "metadata": {
    "collapsed": true
   },
   "outputs": [],
   "source": [
    "LinearRegression.score?"
   ]
  },
  {
   "cell_type": "markdown",
   "metadata": {},
   "source": [
    "## another way of doing cross validation"
   ]
  },
  {
   "cell_type": "code",
   "execution_count": 49,
   "metadata": {
    "collapsed": true
   },
   "outputs": [],
   "source": [
    "from sklearn.model_selection import KFold\n",
    "\n",
    "KFold?"
   ]
  },
  {
   "cell_type": "code",
   "execution_count": 46,
   "metadata": {},
   "outputs": [
    {
     "name": "stdout",
     "output_type": "stream",
     "text": [
      "2.62469523824\n",
      "3.9124481746\n",
      "4.38945068158\n",
      "5.57366377264\n",
      "4.78261236697\n"
     ]
    }
   ],
   "source": [
    "k_fold = KFold(n_splits=5)\n",
    "i = 1\n",
    "for train, test in k_fold.split(X):\n",
    "    i += 1\n",
    "    lr = LinearRegression()\n",
    "    \n",
    "    y_pred = lr.fit(X[train], y[train]).predict(X[test])\n",
    "    print(metrics.mean_absolute_error(y[test], y_pred))"
   ]
  }
 ],
 "metadata": {
  "kernelspec": {
   "display_name": "Python 3",
   "language": "python",
   "name": "python3"
  },
  "language_info": {
   "codemirror_mode": {
    "name": "ipython",
    "version": 3
   },
   "file_extension": ".py",
   "mimetype": "text/x-python",
   "name": "python",
   "nbconvert_exporter": "python",
   "pygments_lexer": "ipython3",
   "version": "3.6.1"
  }
 },
 "nbformat": 4,
 "nbformat_minor": 1
}
